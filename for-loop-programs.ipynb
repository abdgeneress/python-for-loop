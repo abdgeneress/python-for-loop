{
 "cells": [
  {
   "cell_type": "code",
   "execution_count": 1,
   "metadata": {},
   "outputs": [
    {
     "name": "stdout",
     "output_type": "stream",
     "text": [
      "1\n",
      "3\n",
      "6\n",
      "10\n",
      "15\n",
      "21\n",
      "28\n",
      "36\n",
      "45\n"
     ]
    }
   ],
   "source": [
    "# Program to find the sum of all numbers stored in a list\n",
    "\n",
    "my_list = [1,2,3,4,5,6,7,8,9]\n",
    "sum = 0\n",
    "\n",
    "for i in my_list:\n",
    "    \n",
    "    sum = sum+i\n",
    "    print(sum)"
   ]
  },
  {
   "cell_type": "code",
   "execution_count": 5,
   "metadata": {},
   "outputs": [
    {
     "name": "stdout",
     "output_type": "stream",
     "text": [
      "abc\n",
      "cbv\n",
      "agfh\n",
      "aghy\n"
     ]
    }
   ],
   "source": [
    "# Program to iterate through a list using indexing\n",
    "\n",
    "list1 = ['abc', 'cbv','agfh','aghy']\n",
    "\n",
    "for i in range(len(list1)):\n",
    "    print(list1[i])"
   ]
  },
  {
   "cell_type": "code",
   "execution_count": 6,
   "metadata": {},
   "outputs": [
    {
     "name": "stdout",
     "output_type": "stream",
     "text": [
      "4\n",
      "16\n",
      "36\n",
      "25\n",
      "49\n"
     ]
    }
   ],
   "source": [
    "# Program to print squares of all numbers present in a list\n",
    "\n",
    "list2 = [2,4,6,5,7]\n",
    "\n",
    "sq = 0\n",
    "\n",
    "for i in list2:\n",
    "    sq = i * i\n",
    "    print(sq)"
   ]
  },
  {
   "cell_type": "code",
   "execution_count": 8,
   "metadata": {},
   "outputs": [
    {
     "name": "stdout",
     "output_type": "stream",
     "text": [
      "1\n",
      "3\n",
      "6\n",
      "10\n",
      "15\n"
     ]
    }
   ],
   "source": [
    "# Program to print the sum of first 5 natural numbers\n",
    "\n",
    "su = 0\n",
    "\n",
    "for i in range(1,6):\n",
    "    su = su + i\n",
    "    print(su)"
   ]
  },
  {
   "cell_type": "code",
   "execution_count": 11,
   "metadata": {},
   "outputs": [
    {
     "name": "stdout",
     "output_type": "stream",
     "text": [
      "0 ****** 10\n",
      "0 ****** 11\n",
      "0 ****** 12\n",
      "1 ****** 10\n",
      "1 ****** 11\n",
      "1 ****** 12\n",
      "2 ****** 10\n",
      "2 ****** 11\n",
      "2 ****** 12\n"
     ]
    }
   ],
   "source": [
    "#nested loop\n",
    "\n",
    "for i in range(3):\n",
    "    for m in range(10,13):\n",
    "        print(i, \"******\", m)"
   ]
  },
  {
   "cell_type": "code",
   "execution_count": 1,
   "metadata": {},
   "outputs": [
    {
     "name": "stdout",
     "output_type": "stream",
     "text": [
      "[0]\n",
      "[0, 5]\n",
      "[0, 5, 10]\n",
      "[0, 5, 10, 15]\n",
      "[0, 5, 10, 15, 20]\n",
      "[0, 5, 10, 15, 20, 25]\n",
      "[0, 5, 10, 15, 20, 25, 30]\n",
      "[0, 5, 10, 15, 20, 25, 30, 35]\n",
      "[0, 5, 10, 15, 20, 25, 30, 35, 40]\n",
      "[0, 5, 10, 15, 20, 25, 30, 35, 40, 45]\n",
      "[0, 5, 10, 15, 20, 25, 30, 35, 40, 45, 50]\n",
      "[0, 5, 10, 15, 20, 25, 30, 35, 40, 45, 50, 55]\n",
      "[0, 5, 10, 15, 20, 25, 30, 35, 40, 45, 50, 55, 60]\n",
      "[0, 5, 10, 15, 20, 25, 30, 35, 40, 45, 50, 55, 60, 65]\n",
      "[0, 5, 10, 15, 20, 25, 30, 35, 40, 45, 50, 55, 60, 65, 70]\n",
      "[0, 5, 10, 15, 20, 25, 30, 35, 40, 45, 50, 55, 60, 65, 70, 75]\n",
      "[0, 5, 10, 15, 20, 25, 30, 35, 40, 45, 50, 55, 60, 65, 70, 75, 80]\n",
      "[0, 5, 10, 15, 20, 25, 30, 35, 40, 45, 50, 55, 60, 65, 70, 75, 80, 85]\n",
      "[0, 5, 10, 15, 20, 25, 30, 35, 40, 45, 50, 55, 60, 65, 70, 75, 80, 85, 90]\n",
      "[0, 5, 10, 15, 20, 25, 30, 35, 40, 45, 50, 55, 60, 65, 70, 75, 80, 85, 90, 95]\n",
      "[0, 5, 10, 15, 20, 25, 30, 35, 40, 45, 50, 55, 60, 65, 70, 75, 80, 85, 90, 95, 100]\n"
     ]
    }
   ],
   "source": [
    "my_list = []\n",
    "\n",
    "for i in range(0,101,5):\n",
    "    my_list.append(i)\n",
    "    print(my_list)"
   ]
  },
  {
   "cell_type": "code",
   "execution_count": 1,
   "metadata": {},
   "outputs": [
    {
     "name": "stdout",
     "output_type": "stream",
     "text": [
      "[50, 52, 54, 56, 58, 60, 62, 64, 66, 68, 70, 72, 74, 76, 78, 80, 82, 84, 86, 88, 90, 92, 94, 96, 98, 100, 102, 104, 106, 108, 110, 112, 114, 116, 118, 120, 122, 124, 126, 128, 130, 132, 134, 136, 138, 140, 142, 144, 146, 148, 150]\n"
     ]
    }
   ],
   "source": [
    "num=[]\n",
    "for i in range(50, 151):\n",
    "    if i % 2 ==0:\n",
    "        num.append(i)\n",
    "print(num)  "
   ]
  },
  {
   "cell_type": "code",
   "execution_count": 2,
   "metadata": {},
   "outputs": [
    {
     "name": "stdout",
     "output_type": "stream",
     "text": [
      "The value of a after swapping: 10\n",
      "The value of b after swapping: 5\n"
     ]
    }
   ],
   "source": [
    "a = 5\n",
    "b = 10\n",
    "\n",
    "# create a temporary variable and swap the values\n",
    "temp = a\n",
    "a = b\n",
    "b = temp\n",
    "\n",
    "print('The value of a after swapping: {}'.format(a))\n",
    "print('The value of b after swapping: {}'.format(b))"
   ]
  },
  {
   "cell_type": "code",
   "execution_count": null,
   "metadata": {},
   "outputs": [],
   "source": []
  }
 ],
 "metadata": {
  "kernelspec": {
   "display_name": "Python 3",
   "language": "python",
   "name": "python3"
  },
  "language_info": {
   "codemirror_mode": {
    "name": "ipython",
    "version": 3
   },
   "file_extension": ".py",
   "mimetype": "text/x-python",
   "name": "python",
   "nbconvert_exporter": "python",
   "pygments_lexer": "ipython3",
   "version": "3.7.3"
  }
 },
 "nbformat": 4,
 "nbformat_minor": 2
}
